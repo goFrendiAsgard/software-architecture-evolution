{
 "cells": [
  {
   "cell_type": "markdown",
   "id": "a374b1d8",
   "metadata": {},
   "source": [
    "# Load Data ke Dataframe"
   ]
  },
  {
   "cell_type": "code",
   "execution_count": 1,
   "id": "2fb4450e",
   "metadata": {},
   "outputs": [
    {
     "data": {
      "text/html": [
       "<div>\n",
       "<style scoped>\n",
       "    .dataframe tbody tr th:only-of-type {\n",
       "        vertical-align: middle;\n",
       "    }\n",
       "\n",
       "    .dataframe tbody tr th {\n",
       "        vertical-align: top;\n",
       "    }\n",
       "\n",
       "    .dataframe thead th {\n",
       "        text-align: right;\n",
       "    }\n",
       "</style>\n",
       "<table border=\"1\" class=\"dataframe\">\n",
       "  <thead>\n",
       "    <tr style=\"text-align: right;\">\n",
       "      <th></th>\n",
       "      <th>pokemon_name</th>\n",
       "      <th>day_bucket</th>\n",
       "      <th>vote_count</th>\n",
       "    </tr>\n",
       "  </thead>\n",
       "  <tbody>\n",
       "    <tr>\n",
       "      <th>0</th>\n",
       "      <td>koffing</td>\n",
       "      <td>2021-02-24</td>\n",
       "      <td>101</td>\n",
       "    </tr>\n",
       "    <tr>\n",
       "      <th>1</th>\n",
       "      <td>mewtwo</td>\n",
       "      <td>2021-02-24</td>\n",
       "      <td>17</td>\n",
       "    </tr>\n",
       "    <tr>\n",
       "      <th>2</th>\n",
       "      <td>snorlax</td>\n",
       "      <td>2021-02-24</td>\n",
       "      <td>5</td>\n",
       "    </tr>\n",
       "    <tr>\n",
       "      <th>3</th>\n",
       "      <td>koffing</td>\n",
       "      <td>2021-02-25</td>\n",
       "      <td>92</td>\n",
       "    </tr>\n",
       "    <tr>\n",
       "      <th>4</th>\n",
       "      <td>mewtwo</td>\n",
       "      <td>2021-02-25</td>\n",
       "      <td>25</td>\n",
       "    </tr>\n",
       "    <tr>\n",
       "      <th>...</th>\n",
       "      <td>...</td>\n",
       "      <td>...</td>\n",
       "      <td>...</td>\n",
       "    </tr>\n",
       "    <tr>\n",
       "      <th>150</th>\n",
       "      <td>snorlax</td>\n",
       "      <td>2021-04-22</td>\n",
       "      <td>179</td>\n",
       "    </tr>\n",
       "    <tr>\n",
       "      <th>151</th>\n",
       "      <td>mewtwo</td>\n",
       "      <td>2021-04-23</td>\n",
       "      <td>199</td>\n",
       "    </tr>\n",
       "    <tr>\n",
       "      <th>152</th>\n",
       "      <td>snorlax</td>\n",
       "      <td>2021-04-23</td>\n",
       "      <td>189</td>\n",
       "    </tr>\n",
       "    <tr>\n",
       "      <th>153</th>\n",
       "      <td>mewtwo</td>\n",
       "      <td>2021-04-24</td>\n",
       "      <td>198</td>\n",
       "    </tr>\n",
       "    <tr>\n",
       "      <th>154</th>\n",
       "      <td>snorlax</td>\n",
       "      <td>2021-04-24</td>\n",
       "      <td>185</td>\n",
       "    </tr>\n",
       "  </tbody>\n",
       "</table>\n",
       "<p>155 rows × 3 columns</p>\n",
       "</div>"
      ],
      "text/plain": [
       "    pokemon_name  day_bucket  vote_count\n",
       "0        koffing  2021-02-24         101\n",
       "1         mewtwo  2021-02-24          17\n",
       "2        snorlax  2021-02-24           5\n",
       "3        koffing  2021-02-25          92\n",
       "4         mewtwo  2021-02-25          25\n",
       "..           ...         ...         ...\n",
       "150      snorlax  2021-04-22         179\n",
       "151       mewtwo  2021-04-23         199\n",
       "152      snorlax  2021-04-23         189\n",
       "153       mewtwo  2021-04-24         198\n",
       "154      snorlax  2021-04-24         185\n",
       "\n",
       "[155 rows x 3 columns]"
      ]
     },
     "execution_count": 1,
     "metadata": {},
     "output_type": "execute_result"
    }
   ],
   "source": [
    "from sqlalchemy import create_engine\n",
    "import pandas as pd\n",
    "\n",
    "import os\n",
    "\n",
    "connection_string = os.getenv('CONNECTION_STRING')\n",
    "engine = create_engine(connection_string)\n",
    "sql = 'SELECT name as pokemon_name, day_bucket, count(id) as vote_count FROM saved_pokemon_vote GROUP BY day_bucket, name ORDER BY day_bucket, name'\n",
    "sql_query = pd.read_sql_query(sql, engine)\n",
    "df = pd.DataFrame(sql_query, columns=['pokemon_name', 'day_bucket', 'vote_count'])\n",
    "df"
   ]
  },
  {
   "cell_type": "markdown",
   "id": "623418e2",
   "metadata": {},
   "source": [
    "# Plot Dataframe Per Pokemon (aka: Data Masa Lalu)"
   ]
  },
  {
   "cell_type": "code",
   "execution_count": 2,
   "id": "608c89f8",
   "metadata": {},
   "outputs": [
    {
     "data": {
      "image/png": "[encoded data removed]",
      "text/plain": [
       "<Figure size 432x288 with 1 Axes>"
      ]
     },
     "metadata": {
      "needs_background": "light"
     },
     "output_type": "display_data"
    }
   ],
   "source": [
    "from typing import Mapping, List\n",
    "import matplotlib.pyplot as plt\n",
    "\n",
    "day_bucket_map: Mapping[str, List[str]] = {}\n",
    "vote_count_map: Mapping[str, List[int]] = {}\n",
    "\n",
    "for index, row in df.iterrows():\n",
    "    if row.pokemon_name not in day_bucket_map:\n",
    "        day_bucket_map[row.pokemon_name] = []\n",
    "        vote_count_map[row.pokemon_name] = []\n",
    "    day_bucket_map[row.pokemon_name].append(row.day_bucket)\n",
    "    vote_count_map[row.pokemon_name].append(row.vote_count)\n",
    "\n",
    "for pokemon_name in day_bucket_map:\n",
    "    day_buckets = day_bucket_map[pokemon_name]\n",
    "    vote_counts = vote_count_map[pokemon_name]\n",
    "    plt.plot(day_buckets, vote_counts, label=pokemon_name)\n",
    "plt.xticks(rotation=45)\n",
    "plt.legend()\n",
    "plt.show()"
   ]
  },
  {
   "cell_type": "markdown",
   "id": "0da597cf",
   "metadata": {},
   "source": [
    "# Transform Data untuk ML Model"
   ]
  },
  {
   "cell_type": "code",
   "execution_count": 5,
   "id": "66589b52",
   "metadata": {},
   "outputs": [
    {
     "name": "stdout",
     "output_type": "stream",
     "text": [
      "X [[17, 25, 22], [25, 22, 30], [22, 30, 28], [30, 28, 38], [28, 38, 38], [38, 38, 36], [38, 36, 42], [36, 42, 49], [42, 49, 49], [49, 49, 53], [49, 53, 59], [53, 59, 60], [59, 60, 61], [60, 61, 65], [61, 65, 64], [65, 64, 74], [64, 74, 75], [74, 75, 77], [75, 77, 75], [77, 75, 83], [75, 83, 86], [83, 86, 89], [86, 89, 90], [89, 90, 91], [90, 91, 102], [91, 102, 101], [102, 101, 105], [101, 105, 103], [105, 103, 115], [103, 115, 118], [115, 118, 117], [118, 117, 119], [117, 119, 120], [119, 120, 127], [120, 127, 127], [127, 127, 126], [127, 126, 138], [126, 138, 139], [138, 139, 144], [139, 144, 146], [144, 146, 142], [146, 142, 151], [142, 151, 148], [151, 148, 158], [148, 158, 154], [158, 154, 159], [154, 159, 169], [159, 169, 166], [169, 166, 173], [166, 173, 171], [173, 171, 177], [171, 177, 179], [177, 179, 186], [179, 186, 181], [186, 181, 183], [181, 183, 186], [183, 186, 199]]\n",
      "Y [30, 28, 38, 38, 36, 42, 49, 49, 53, 59, 60, 61, 65, 64, 74, 75, 77, 75, 83, 86, 89, 90, 91, 102, 101, 105, 103, 115, 118, 117, 119, 120, 127, 127, 126, 138, 139, 144, 146, 142, 151, 148, 158, 154, 159, 169, 166, 173, 171, 177, 179, 186, 181, 183, 186, 199, 198]\n"
     ]
    }
   ],
   "source": [
    "import datetime\n",
    "\n",
    "target_pokemon = 'mewtwo'\n",
    "\n",
    "day_buckets = day_bucket_map[target_pokemon]\n",
    "vote_counts = vote_count_map[target_pokemon]\n",
    "start_date = day_buckets[0]\n",
    "vote_map: Mapping[int, int] = {}\n",
    "max_delta_days = 0\n",
    "for index in range(len(day_buckets)):\n",
    "    day_bucket = day_buckets[index]\n",
    "    vote_count = vote_counts[index]\n",
    "    delta = day_bucket - start_date\n",
    "    delta_days = delta.days\n",
    "    max_delta_days = delta_days\n",
    "    vote_map[delta_days] = vote_count\n",
    "\n",
    "\n",
    "# prepare data for training\n",
    "x_mewtwo: List[List[int]] = []\n",
    "y_mewtwo: List[int] = []\n",
    "for index in range(max_delta_days):\n",
    "    if index not in vote_map or (index + 1) not in vote_map or (index + 2) not in vote_map or (index + 3) not in vote_map:\n",
    "        continue\n",
    "    x = [\n",
    "        vote_map[index],\n",
    "        vote_map[index+1],\n",
    "        vote_map[index+2]\n",
    "    ]\n",
    "    y = vote_map[index+3]\n",
    "    x_mewtwo.append(x)\n",
    "    y_mewtwo.append(y)\n",
    "\n",
    "print('X', x_mewtwo)\n",
    "print('Y', y_mewtwo)"
   ]
  },
  {
   "cell_type": "markdown",
   "id": "0adee3bb",
   "metadata": {},
   "source": [
    "# Membuat ML Model"
   ]
  },
  {
   "cell_type": "code",
   "execution_count": 6,
   "id": "9c20d78d",
   "metadata": {},
   "outputs": [
    {
     "data": {
      "text/plain": [
       "0.9779373264217156"
      ]
     },
     "execution_count": 6,
     "metadata": {},
     "output_type": "execute_result"
    }
   ],
   "source": [
    "from sklearn.neural_network import MLPRegressor\n",
    "from sklearn.model_selection import train_test_split\n",
    "x_train, x_test, y_train, y_test = train_test_split(x_mewtwo, y_mewtwo, random_state=1)\n",
    "regr = MLPRegressor(random_state=1, max_iter=500).fit(x_train, y_train)\n",
    "regr.predict(x_test[:2])\n",
    "regr.score(x_test, y_test)"
   ]
  },
  {
   "cell_type": "code",
   "execution_count": 7,
   "id": "2fbad8d9",
   "metadata": {},
   "outputs": [
    {
     "ename": "ValueError",
     "evalue": "Expected 2D array, got 1D array instead:\narray=[17 25 22].\nReshape your data either using array.reshape(-1, 1) if your data has a single feature or array.reshape(1, -1) if it contains a single sample.",
     "output_type": "error",
     "traceback": [
      "\u001b[0;31m---------------------------------------------------------------------------\u001b[0m",
      "\u001b[0;31mValueError\u001b[0m                                Traceback (most recent call last)",
      "\u001b[0;32m<ipython-input-7-70a7b9a2ddaf>\u001b[0m in \u001b[0;36m<module>\u001b[0;34m\u001b[0m\n\u001b[1;32m      3\u001b[0m \u001b[0;31m# prediksi data masa lalu\u001b[0m\u001b[0;34m\u001b[0m\u001b[0;34m\u001b[0m\u001b[0;34m\u001b[0m\u001b[0m\n\u001b[1;32m      4\u001b[0m \u001b[0;32mfor\u001b[0m \u001b[0mindex\u001b[0m \u001b[0;32min\u001b[0m \u001b[0mrange\u001b[0m\u001b[0;34m(\u001b[0m\u001b[0mlen\u001b[0m\u001b[0;34m(\u001b[0m\u001b[0mx_mewtwo\u001b[0m\u001b[0;34m)\u001b[0m\u001b[0;34m)\u001b[0m\u001b[0;34m:\u001b[0m\u001b[0;34m\u001b[0m\u001b[0;34m\u001b[0m\u001b[0m\n\u001b[0;32m----> 5\u001b[0;31m     \u001b[0my_mewtwo_predict\u001b[0m\u001b[0;34m.\u001b[0m\u001b[0mappend\u001b[0m\u001b[0;34m(\u001b[0m\u001b[0mregr\u001b[0m\u001b[0;34m.\u001b[0m\u001b[0mpredict\u001b[0m\u001b[0;34m(\u001b[0m\u001b[0mx_mewtwo\u001b[0m\u001b[0;34m[\u001b[0m\u001b[0mindex\u001b[0m\u001b[0;34m]\u001b[0m\u001b[0;34m)\u001b[0m\u001b[0;34m)\u001b[0m\u001b[0;34m\u001b[0m\u001b[0;34m\u001b[0m\u001b[0m\n\u001b[0m\u001b[1;32m      6\u001b[0m \u001b[0;34m\u001b[0m\u001b[0m\n\u001b[1;32m      7\u001b[0m \u001b[0;31m# prediksi data 15 hari ke depan\u001b[0m\u001b[0;34m\u001b[0m\u001b[0;34m\u001b[0m\u001b[0;34m\u001b[0m\u001b[0m\n",
      "\u001b[0;32m~/.local/share/virtualenvs/jupyter-7GyUwrms/lib/python3.8/site-packages/sklearn/neural_network/_multilayer_perceptron.py\u001b[0m in \u001b[0;36mpredict\u001b[0;34m(self, X)\u001b[0m\n\u001b[1;32m   1407\u001b[0m         \"\"\"\n\u001b[1;32m   1408\u001b[0m         \u001b[0mcheck_is_fitted\u001b[0m\u001b[0;34m(\u001b[0m\u001b[0mself\u001b[0m\u001b[0;34m)\u001b[0m\u001b[0;34m\u001b[0m\u001b[0;34m\u001b[0m\u001b[0m\n\u001b[0;32m-> 1409\u001b[0;31m         \u001b[0my_pred\u001b[0m \u001b[0;34m=\u001b[0m \u001b[0mself\u001b[0m\u001b[0;34m.\u001b[0m\u001b[0m_forward_pass_fast\u001b[0m\u001b[0;34m(\u001b[0m\u001b[0mX\u001b[0m\u001b[0;34m)\u001b[0m\u001b[0;34m\u001b[0m\u001b[0;34m\u001b[0m\u001b[0m\n\u001b[0m\u001b[1;32m   1410\u001b[0m         \u001b[0;32mif\u001b[0m \u001b[0my_pred\u001b[0m\u001b[0;34m.\u001b[0m\u001b[0mshape\u001b[0m\u001b[0;34m[\u001b[0m\u001b[0;36m1\u001b[0m\u001b[0;34m]\u001b[0m \u001b[0;34m==\u001b[0m \u001b[0;36m1\u001b[0m\u001b[0;34m:\u001b[0m\u001b[0;34m\u001b[0m\u001b[0;34m\u001b[0m\u001b[0m\n\u001b[1;32m   1411\u001b[0m             \u001b[0;32mreturn\u001b[0m \u001b[0my_pred\u001b[0m\u001b[0;34m.\u001b[0m\u001b[0mravel\u001b[0m\u001b[0;34m(\u001b[0m\u001b[0;34m)\u001b[0m\u001b[0;34m\u001b[0m\u001b[0;34m\u001b[0m\u001b[0m\n",
      "\u001b[0;32m~/.local/share/virtualenvs/jupyter-7GyUwrms/lib/python3.8/site-packages/sklearn/neural_network/_multilayer_perceptron.py\u001b[0m in \u001b[0;36m_forward_pass_fast\u001b[0;34m(self, X)\u001b[0m\n\u001b[1;32m    132\u001b[0m             \u001b[0mThe\u001b[0m \u001b[0mdecision\u001b[0m \u001b[0mfunction\u001b[0m \u001b[0mof\u001b[0m \u001b[0mthe\u001b[0m \u001b[0msamples\u001b[0m \u001b[0;32mfor\u001b[0m \u001b[0meach\u001b[0m \u001b[0;32mclass\u001b[0m \u001b[0;32min\u001b[0m \u001b[0mthe\u001b[0m \u001b[0mmodel\u001b[0m\u001b[0;34m.\u001b[0m\u001b[0;34m\u001b[0m\u001b[0;34m\u001b[0m\u001b[0m\n\u001b[1;32m    133\u001b[0m         \"\"\"\n\u001b[0;32m--> 134\u001b[0;31m         \u001b[0mX\u001b[0m \u001b[0;34m=\u001b[0m \u001b[0mself\u001b[0m\u001b[0;34m.\u001b[0m\u001b[0m_validate_data\u001b[0m\u001b[0;34m(\u001b[0m\u001b[0mX\u001b[0m\u001b[0;34m,\u001b[0m \u001b[0maccept_sparse\u001b[0m\u001b[0;34m=\u001b[0m\u001b[0;34m[\u001b[0m\u001b[0;34m'csr'\u001b[0m\u001b[0;34m,\u001b[0m \u001b[0;34m'csc'\u001b[0m\u001b[0;34m]\u001b[0m\u001b[0;34m,\u001b[0m \u001b[0mreset\u001b[0m\u001b[0;34m=\u001b[0m\u001b[0;32mFalse\u001b[0m\u001b[0;34m)\u001b[0m\u001b[0;34m\u001b[0m\u001b[0;34m\u001b[0m\u001b[0m\n\u001b[0m\u001b[1;32m    135\u001b[0m \u001b[0;34m\u001b[0m\u001b[0m\n\u001b[1;32m    136\u001b[0m         \u001b[0;31m# Initialize first layer\u001b[0m\u001b[0;34m\u001b[0m\u001b[0;34m\u001b[0m\u001b[0;34m\u001b[0m\u001b[0m\n",
      "\u001b[0;32m~/.local/share/virtualenvs/jupyter-7GyUwrms/lib/python3.8/site-packages/sklearn/base.py\u001b[0m in \u001b[0;36m_validate_data\u001b[0;34m(self, X, y, reset, validate_separately, **check_params)\u001b[0m\n\u001b[1;32m    419\u001b[0m             \u001b[0mout\u001b[0m \u001b[0;34m=\u001b[0m \u001b[0mX\u001b[0m\u001b[0;34m\u001b[0m\u001b[0;34m\u001b[0m\u001b[0m\n\u001b[1;32m    420\u001b[0m         \u001b[0;32melif\u001b[0m \u001b[0misinstance\u001b[0m\u001b[0;34m(\u001b[0m\u001b[0my\u001b[0m\u001b[0;34m,\u001b[0m \u001b[0mstr\u001b[0m\u001b[0;34m)\u001b[0m \u001b[0;32mand\u001b[0m \u001b[0my\u001b[0m \u001b[0;34m==\u001b[0m \u001b[0;34m'no_validation'\u001b[0m\u001b[0;34m:\u001b[0m\u001b[0;34m\u001b[0m\u001b[0;34m\u001b[0m\u001b[0m\n\u001b[0;32m--> 421\u001b[0;31m             \u001b[0mX\u001b[0m \u001b[0;34m=\u001b[0m \u001b[0mcheck_array\u001b[0m\u001b[0;34m(\u001b[0m\u001b[0mX\u001b[0m\u001b[0;34m,\u001b[0m \u001b[0;34m**\u001b[0m\u001b[0mcheck_params\u001b[0m\u001b[0;34m)\u001b[0m\u001b[0;34m\u001b[0m\u001b[0;34m\u001b[0m\u001b[0m\n\u001b[0m\u001b[1;32m    422\u001b[0m             \u001b[0mout\u001b[0m \u001b[0;34m=\u001b[0m \u001b[0mX\u001b[0m\u001b[0;34m\u001b[0m\u001b[0;34m\u001b[0m\u001b[0m\n\u001b[1;32m    423\u001b[0m         \u001b[0;32melse\u001b[0m\u001b[0;34m:\u001b[0m\u001b[0;34m\u001b[0m\u001b[0;34m\u001b[0m\u001b[0m\n",
      "\u001b[0;32m~/.local/share/virtualenvs/jupyter-7GyUwrms/lib/python3.8/site-packages/sklearn/utils/validation.py\u001b[0m in \u001b[0;36minner_f\u001b[0;34m(*args, **kwargs)\u001b[0m\n\u001b[1;32m     61\u001b[0m             \u001b[0mextra_args\u001b[0m \u001b[0;34m=\u001b[0m \u001b[0mlen\u001b[0m\u001b[0;34m(\u001b[0m\u001b[0margs\u001b[0m\u001b[0;34m)\u001b[0m \u001b[0;34m-\u001b[0m \u001b[0mlen\u001b[0m\u001b[0;34m(\u001b[0m\u001b[0mall_args\u001b[0m\u001b[0;34m)\u001b[0m\u001b[0;34m\u001b[0m\u001b[0;34m\u001b[0m\u001b[0m\n\u001b[1;32m     62\u001b[0m             \u001b[0;32mif\u001b[0m \u001b[0mextra_args\u001b[0m \u001b[0;34m<=\u001b[0m \u001b[0;36m0\u001b[0m\u001b[0;34m:\u001b[0m\u001b[0;34m\u001b[0m\u001b[0;34m\u001b[0m\u001b[0m\n\u001b[0;32m---> 63\u001b[0;31m                 \u001b[0;32mreturn\u001b[0m \u001b[0mf\u001b[0m\u001b[0;34m(\u001b[0m\u001b[0;34m*\u001b[0m\u001b[0margs\u001b[0m\u001b[0;34m,\u001b[0m \u001b[0;34m**\u001b[0m\u001b[0mkwargs\u001b[0m\u001b[0;34m)\u001b[0m\u001b[0;34m\u001b[0m\u001b[0;34m\u001b[0m\u001b[0m\n\u001b[0m\u001b[1;32m     64\u001b[0m \u001b[0;34m\u001b[0m\u001b[0m\n\u001b[1;32m     65\u001b[0m             \u001b[0;31m# extra_args > 0\u001b[0m\u001b[0;34m\u001b[0m\u001b[0;34m\u001b[0m\u001b[0;34m\u001b[0m\u001b[0m\n",
      "\u001b[0;32m~/.local/share/virtualenvs/jupyter-7GyUwrms/lib/python3.8/site-packages/sklearn/utils/validation.py\u001b[0m in \u001b[0;36mcheck_array\u001b[0;34m(array, accept_sparse, accept_large_sparse, dtype, order, copy, force_all_finite, ensure_2d, allow_nd, ensure_min_samples, ensure_min_features, estimator)\u001b[0m\n\u001b[1;32m    635\u001b[0m             \u001b[0;31m# If input is 1D raise error\u001b[0m\u001b[0;34m\u001b[0m\u001b[0;34m\u001b[0m\u001b[0;34m\u001b[0m\u001b[0m\n\u001b[1;32m    636\u001b[0m             \u001b[0;32mif\u001b[0m \u001b[0marray\u001b[0m\u001b[0;34m.\u001b[0m\u001b[0mndim\u001b[0m \u001b[0;34m==\u001b[0m \u001b[0;36m1\u001b[0m\u001b[0;34m:\u001b[0m\u001b[0;34m\u001b[0m\u001b[0;34m\u001b[0m\u001b[0m\n\u001b[0;32m--> 637\u001b[0;31m                 raise ValueError(\n\u001b[0m\u001b[1;32m    638\u001b[0m                     \u001b[0;34m\"Expected 2D array, got 1D array instead:\\narray={}.\\n\"\u001b[0m\u001b[0;34m\u001b[0m\u001b[0;34m\u001b[0m\u001b[0m\n\u001b[1;32m    639\u001b[0m                     \u001b[0;34m\"Reshape your data either using array.reshape(-1, 1) if \"\u001b[0m\u001b[0;34m\u001b[0m\u001b[0;34m\u001b[0m\u001b[0m\n",
      "\u001b[0;31mValueError\u001b[0m: Expected 2D array, got 1D array instead:\narray=[17 25 22].\nReshape your data either using array.reshape(-1, 1) if your data has a single feature or array.reshape(1, -1) if it contains a single sample."
     ]
    }
   ],
   "source": [
    "predictions = []\n",
    "\n",
    "# prediksi data masa lalu\n",
    "for index in range(len(x_mewtwo)):\n",
    "    prediction = regr.predict([x_mewtwo[index]])\n",
    "    predictions.append(prediction)\n",
    "\n",
    "# prediksi data 15 hari ke depan\n",
    "last_x = x_mewtwo[len(x_mewtwo)-1]\n",
    "last_y = y_mewtwo[len(y_mewtwo)-1]\n",
    "for i in range(15):\n",
    "    new_x = [last_x[1], last_x[2], last_y]\n",
    "    prediction = regr.predict([new_x])\n",
    "    predictions.append(new_y)\n",
    "    last_y = prediction\n",
    "    last_x = new_x\n",
    "    \n",
    "\n",
    "# plot data asli\n",
    "for index in range(len(y_mewtwo)):\n",
    "    plt.plot(index, y_mewtwo[index], label=\"actual data\")\n",
    "    \n",
    "# plot data baru\n",
    "for index in range(len(y_mewtwo_predict)):\n",
    "    plt.plot(index, y_mewtwo_predict[index], label=\"prediction\")\n",
    "plt.show()"
   ]
  },
  {
   "cell_type": "code",
   "execution_count": null,
   "id": "6f968394",
   "metadata": {},
   "outputs": [],
   "source": []
  }
 ],
 "metadata": {
  "kernelspec": {
   "display_name": "Python 3",
   "language": "python",
   "name": "python3"
  },
  "language_info": {
   "codemirror_mode": {
    "name": "ipython",
    "version": 3
   },
   "file_extension": ".py",
   "mimetype": "text/x-python",
   "name": "python",
   "nbconvert_exporter": "python",
   "pygments_lexer": "ipython3",
   "version": "3.8.6"
  }
 },
 "nbformat": 4,
 "nbformat_minor": 5
}
