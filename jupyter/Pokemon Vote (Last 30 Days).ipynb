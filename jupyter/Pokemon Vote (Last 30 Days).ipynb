{
 "cells": [
  {
   "cell_type": "markdown",
   "id": "a374b1d8",
   "metadata": {},
   "source": [
    "# Load Data ke Dataframe"
   ]
  },
  {
   "cell_type": "code",
   "execution_count": 1,
   "id": "2fb4450e",
   "metadata": {},
   "outputs": [
    {
     "data": {
      "text/html": [
       "<div>\n",
       "<style scoped>\n",
       "    .dataframe tbody tr th:only-of-type {\n",
       "        vertical-align: middle;\n",
       "    }\n",
       "\n",
       "    .dataframe tbody tr th {\n",
       "        vertical-align: top;\n",
       "    }\n",
       "\n",
       "    .dataframe thead th {\n",
       "        text-align: right;\n",
       "    }\n",
       "</style>\n",
       "<table border=\"1\" class=\"dataframe\">\n",
       "  <thead>\n",
       "    <tr style=\"text-align: right;\">\n",
       "      <th></th>\n",
       "      <th>pokemon_name</th>\n",
       "      <th>day_bucket</th>\n",
       "      <th>vote_count</th>\n",
       "    </tr>\n",
       "  </thead>\n",
       "  <tbody>\n",
       "    <tr>\n",
       "      <th>0</th>\n",
       "      <td>koffing</td>\n",
       "      <td>2020-12-26</td>\n",
       "      <td>204</td>\n",
       "    </tr>\n",
       "    <tr>\n",
       "      <th>1</th>\n",
       "      <td>mewtwo</td>\n",
       "      <td>2020-12-26</td>\n",
       "      <td>21</td>\n",
       "    </tr>\n",
       "    <tr>\n",
       "      <th>2</th>\n",
       "      <td>snorlax</td>\n",
       "      <td>2020-12-26</td>\n",
       "      <td>10</td>\n",
       "    </tr>\n",
       "    <tr>\n",
       "      <th>3</th>\n",
       "      <td>koffing</td>\n",
       "      <td>2020-12-27</td>\n",
       "      <td>196</td>\n",
       "    </tr>\n",
       "    <tr>\n",
       "      <th>4</th>\n",
       "      <td>mewtwo</td>\n",
       "      <td>2020-12-27</td>\n",
       "      <td>25</td>\n",
       "    </tr>\n",
       "    <tr>\n",
       "      <th>...</th>\n",
       "      <td>...</td>\n",
       "      <td>...</td>\n",
       "      <td>...</td>\n",
       "    </tr>\n",
       "    <tr>\n",
       "      <th>355</th>\n",
       "      <td>mewtwo</td>\n",
       "      <td>2021-04-23</td>\n",
       "      <td>373</td>\n",
       "    </tr>\n",
       "    <tr>\n",
       "      <th>356</th>\n",
       "      <td>snorlax</td>\n",
       "      <td>2021-04-23</td>\n",
       "      <td>362</td>\n",
       "    </tr>\n",
       "    <tr>\n",
       "      <th>357</th>\n",
       "      <td>koffing</td>\n",
       "      <td>2021-04-24</td>\n",
       "      <td>83</td>\n",
       "    </tr>\n",
       "    <tr>\n",
       "      <th>358</th>\n",
       "      <td>mewtwo</td>\n",
       "      <td>2021-04-24</td>\n",
       "      <td>372</td>\n",
       "    </tr>\n",
       "    <tr>\n",
       "      <th>359</th>\n",
       "      <td>snorlax</td>\n",
       "      <td>2021-04-24</td>\n",
       "      <td>362</td>\n",
       "    </tr>\n",
       "  </tbody>\n",
       "</table>\n",
       "<p>360 rows × 3 columns</p>\n",
       "</div>"
      ],
      "text/plain": [
       "    pokemon_name  day_bucket  vote_count\n",
       "0        koffing  2020-12-26         204\n",
       "1         mewtwo  2020-12-26          21\n",
       "2        snorlax  2020-12-26          10\n",
       "3        koffing  2020-12-27         196\n",
       "4         mewtwo  2020-12-27          25\n",
       "..           ...         ...         ...\n",
       "355       mewtwo  2021-04-23         373\n",
       "356      snorlax  2021-04-23         362\n",
       "357      koffing  2021-04-24          83\n",
       "358       mewtwo  2021-04-24         372\n",
       "359      snorlax  2021-04-24         362\n",
       "\n",
       "[360 rows x 3 columns]"
      ]
     },
     "execution_count": 1,
     "metadata": {},
     "output_type": "execute_result"
    }
   ],
   "source": [
    "from sqlalchemy import create_engine\n",
    "import pandas as pd\n",
    "\n",
    "import os\n",
    "\n",
    "connection_string = os.getenv('CONNECTION_STRING')\n",
    "engine = create_engine(connection_string)\n",
    "sql = 'SELECT name as pokemon_name, day_bucket, count(id) as vote_count FROM saved_pokemon_vote GROUP BY day_bucket, name ORDER BY day_bucket, name'\n",
    "sql_query = pd.read_sql_query(sql, engine)\n",
    "df = pd.DataFrame(sql_query, columns=['pokemon_name', 'day_bucket', 'vote_count'])\n",
    "df"
   ]
  },
  {
   "cell_type": "markdown",
   "id": "623418e2",
   "metadata": {},
   "source": [
    "# Plot Dataframe Per Pokemon (aka: Data Masa Lalu)"
   ]
  },
  {
   "cell_type": "code",
   "execution_count": 2,
   "id": "608c89f8",
   "metadata": {},
   "outputs": [
    {
     "data": {
      "image/png": "[encoded data removed]",
      "text/plain": [
       "<Figure size 432x288 with 1 Axes>"
      ]
     },
     "metadata": {
      "needs_background": "light"
     },
     "output_type": "display_data"
    }
   ],
   "source": [
    "from typing import Mapping, List\n",
    "import matplotlib.pyplot as plt\n",
    "\n",
    "day_bucket_map: Mapping[str, List[str]] = {}\n",
    "vote_count_map: Mapping[str, List[int]] = {}\n",
    "\n",
    "for index, row in df.iterrows():\n",
    "    if row.pokemon_name not in day_bucket_map:\n",
    "        day_bucket_map[row.pokemon_name] = []\n",
    "        vote_count_map[row.pokemon_name] = []\n",
    "    day_bucket_map[row.pokemon_name].append(row.day_bucket)\n",
    "    vote_count_map[row.pokemon_name].append(row.vote_count)\n",
    "\n",
    "for pokemon_name in day_bucket_map:\n",
    "    day_buckets = day_bucket_map[pokemon_name]\n",
    "    vote_counts = vote_count_map[pokemon_name]\n",
    "    plt.plot(day_buckets, vote_counts, label=pokemon_name)\n",
    "plt.xticks(rotation=45)\n",
    "plt.legend()\n",
    "plt.show()"
   ]
  },
  {
   "cell_type": "markdown",
   "id": "0da597cf",
   "metadata": {},
   "source": [
    "# Transform Data untuk ML Model"
   ]
  },
  {
   "cell_type": "code",
   "execution_count": 3,
   "id": "66589b52",
   "metadata": {},
   "outputs": [
    {
     "name": "stdout",
     "output_type": "stream",
     "text": [
      "X [[21, 25, 22, 27, 35], [25, 22, 27, 35, 38], [22, 27, 35, 38, 37], [27, 35, 38, 37, 44], [35, 38, 37, 44, 48], [38, 37, 44, 48, 47], [37, 44, 48, 47, 53], [44, 48, 47, 53, 55], [48, 47, 53, 55, 52], [47, 53, 55, 52, 63], [53, 55, 52, 63, 61], [55, 52, 63, 61, 61], [52, 63, 61, 61, 65], [63, 61, 61, 65, 72], [61, 61, 65, 72, 72], [61, 65, 72, 72, 72], [65, 72, 72, 72, 75], [72, 72, 72, 75, 84], [72, 72, 75, 84, 82], [72, 75, 84, 82, 86], [75, 84, 82, 86, 88], [84, 82, 86, 88, 91], [82, 86, 88, 91, 97], [86, 88, 91, 97, 99], [88, 91, 97, 99, 107], [91, 97, 99, 107, 108], [97, 99, 107, 108, 107], [99, 107, 108, 107, 115], [107, 108, 107, 115, 116], [108, 107, 115, 116, 121], [107, 115, 116, 121, 120], [115, 116, 121, 120, 124], [116, 121, 120, 124, 124], [121, 120, 124, 124, 129], [120, 124, 124, 129, 131], [124, 124, 129, 131, 140], [124, 129, 131, 140, 140], [129, 131, 140, 140, 146], [131, 140, 140, 146, 143], [140, 140, 146, 143, 148], [140, 146, 143, 148, 147], [146, 143, 148, 147, 157], [143, 148, 147, 157, 159], [148, 147, 157, 159, 166], [147, 157, 159, 166, 167], [157, 159, 166, 167, 167], [159, 166, 167, 167, 165], [166, 167, 167, 165, 175], [167, 167, 165, 175, 181], [167, 165, 175, 181, 177], [165, 175, 181, 177, 182], [175, 181, 177, 182, 187], [181, 177, 182, 187, 186], [177, 182, 187, 186, 196], [182, 187, 186, 196, 198], [187, 186, 196, 198, 192], [186, 196, 198, 192, 198], [196, 198, 192, 198, 203], [198, 192, 198, 203, 207], [192, 198, 203, 207, 205], [198, 203, 207, 205, 214], [203, 207, 205, 214, 213], [207, 205, 214, 213, 223], [205, 214, 213, 223, 216], [214, 213, 223, 216, 220], [213, 223, 216, 220, 225], [223, 216, 220, 225, 235], [216, 220, 225, 235, 233], [220, 225, 235, 233, 238], [225, 235, 233, 238, 244], [235, 233, 238, 244, 244], [233, 238, 244, 244, 246], [238, 244, 244, 246, 249], [244, 244, 246, 249, 249], [244, 246, 249, 249, 250], [246, 249, 249, 250, 255], [249, 249, 250, 255, 255], [249, 250, 255, 255, 265], [250, 255, 255, 265, 271], [255, 255, 265, 271, 272], [255, 265, 271, 272, 271], [265, 271, 272, 271, 278], [271, 272, 271, 278, 281], [272, 271, 278, 281, 276], [271, 278, 281, 276, 284], [278, 281, 276, 284, 283], [281, 276, 284, 283, 295], [276, 284, 283, 295, 293], [284, 283, 295, 293, 301], [283, 295, 293, 301, 300], [295, 293, 301, 300, 302], [293, 301, 300, 302, 306], [301, 300, 302, 306, 306], [300, 302, 306, 306, 309], [302, 306, 306, 309, 312], [306, 306, 309, 312, 319], [306, 309, 312, 319, 318], [309, 312, 319, 318, 324], [312, 319, 318, 324, 327], [319, 318, 324, 327, 334], [318, 324, 327, 334, 336], [324, 327, 334, 336, 339], [327, 334, 336, 339, 339], [334, 336, 339, 339, 339], [336, 339, 339, 339, 340], [339, 339, 339, 340, 346], [339, 339, 340, 346, 346], [339, 340, 346, 346, 358], [340, 346, 346, 358, 357], [346, 346, 358, 357, 354], [346, 358, 357, 354, 360], [358, 357, 354, 360, 368], [357, 354, 360, 368, 366], [354, 360, 368, 366, 374], [360, 368, 366, 374, 373]]\n",
      "Y [38, 37, 44, 48, 47, 53, 55, 52, 63, 61, 61, 65, 72, 72, 72, 75, 84, 82, 86, 88, 91, 97, 99, 107, 108, 107, 115, 116, 121, 120, 124, 124, 129, 131, 140, 140, 146, 143, 148, 147, 157, 159, 166, 167, 167, 165, 175, 181, 177, 182, 187, 186, 196, 198, 192, 198, 203, 207, 205, 214, 213, 223, 216, 220, 225, 235, 233, 238, 244, 244, 246, 249, 249, 250, 255, 255, 265, 271, 272, 271, 278, 281, 276, 284, 283, 295, 293, 301, 300, 302, 306, 306, 309, 312, 319, 318, 324, 327, 334, 336, 339, 339, 339, 340, 346, 346, 358, 357, 354, 360, 368, 366, 374, 373, 372]\n"
     ]
    }
   ],
   "source": [
    "import datetime\n",
    "\n",
    "target_pokemon = 'mewtwo'\n",
    "\n",
    "day_buckets = day_bucket_map[target_pokemon]\n",
    "vote_counts = vote_count_map[target_pokemon]\n",
    "start_date = day_buckets[0]\n",
    "vote_map: Mapping[int, int] = {}\n",
    "max_delta_days = 0\n",
    "for index in range(len(day_buckets)):\n",
    "    day_bucket = day_buckets[index]\n",
    "    vote_count = vote_counts[index]\n",
    "    delta = day_bucket - start_date\n",
    "    delta_days = delta.days\n",
    "    max_delta_days = delta_days\n",
    "    vote_map[delta_days] = vote_count\n",
    "\n",
    "# prepare data for training\n",
    "x_mewtwo: List[List[int]] = []\n",
    "y_mewtwo: List[int] = []\n",
    "for index in range(max_delta_days):\n",
    "    data_is_complete = True\n",
    "    for i in range(6):\n",
    "        if index + i not in vote_map:\n",
    "            data_is_complete = False\n",
    "            break\n",
    "    if not data_is_complete:\n",
    "        continue\n",
    "    x = [\n",
    "        vote_map[index],\n",
    "        vote_map[index+1],\n",
    "        vote_map[index+2],\n",
    "        vote_map[index+3],\n",
    "        vote_map[index+4]\n",
    "    ]\n",
    "    y = vote_map[index+5]\n",
    "    x_mewtwo.append(x)\n",
    "    y_mewtwo.append(y)\n",
    "\n",
    "print('X', x_mewtwo)\n",
    "print('Y', y_mewtwo)"
   ]
  },
  {
   "cell_type": "markdown",
   "id": "08d05522",
   "metadata": {},
   "source": [
    "# Membuat ML Model"
   ]
  },
  {
   "cell_type": "code",
   "execution_count": 4,
   "id": "9c20d78d",
   "metadata": {},
   "outputs": [
    {
     "data": {
      "text/plain": [
       "0.9981157702505435"
      ]
     },
     "execution_count": 4,
     "metadata": {},
     "output_type": "execute_result"
    }
   ],
   "source": [
    "from sklearn.neural_network import MLPRegressor\n",
    "from sklearn.model_selection import train_test_split\n",
    "x_train, x_test, y_train, y_test = train_test_split(x_mewtwo, y_mewtwo, random_state=1)\n",
    "regr = MLPRegressor(random_state=1, max_iter=3000, activation='identity').fit(x_train, y_train)\n",
    "regr.predict(x_test[:2])\n",
    "regr.score(x_test, y_test)"
   ]
  },
  {
   "cell_type": "markdown",
   "id": "c8e365bd",
   "metadata": {},
   "source": [
    "# Memprediksi Masa Depan"
   ]
  },
  {
   "cell_type": "code",
   "execution_count": 5,
   "id": "419c8537",
   "metadata": {},
   "outputs": [
    {
     "data": {
      "image/png": "[encoded data removed]",
      "text/plain": [
       "<Figure size 432x288 with 1 Axes>"
      ]
     },
     "metadata": {
      "needs_background": "light"
     },
     "output_type": "display_data"
    }
   ],
   "source": [
    "predictions = []\n",
    "\n",
    "# prediksi data masa lalu\n",
    "for index in range(len(x_mewtwo)):\n",
    "    prediction = regr.predict([x_mewtwo[index]])\n",
    "    predictions.append(prediction[0])\n",
    "\n",
    "# prediksi data masa depan\n",
    "last_x = x_mewtwo[len(x_mewtwo)-1]\n",
    "last_y = y_mewtwo[len(y_mewtwo)-1]\n",
    "for i in range(15):\n",
    "    new_x = last_x[1:5]\n",
    "    new_x.append(last_y)\n",
    "    prediction = regr.predict([new_x])\n",
    "    predictions.append(prediction[0])\n",
    "    last_y = prediction[0]\n",
    "    last_x = new_x\n",
    "    \n",
    "\n",
    "# plot data asli\n",
    "plt.plot(range(len(y_mewtwo)), y_mewtwo, label=\"actual data\")\n",
    "    \n",
    "# plot data baru\n",
    "plt.plot(range(len(predictions)), predictions, label=\"prediction\")\n",
    "plt.legend()\n",
    "plt.show()"
   ]
  }
 ],
 "metadata": {
  "kernelspec": {
   "display_name": "Python 3",
   "language": "python",
   "name": "python3"
  },
  "language_info": {
   "codemirror_mode": {
    "name": "ipython",
    "version": 3
   },
   "file_extension": ".py",
   "mimetype": "text/x-python",
   "name": "python",
   "nbconvert_exporter": "python",
   "pygments_lexer": "ipython3",
   "version": "3.8.6"
  }
 },
 "nbformat": 4,
 "nbformat_minor": 5
}
