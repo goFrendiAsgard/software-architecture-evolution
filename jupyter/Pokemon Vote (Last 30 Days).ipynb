{
 "cells": [
  {
   "cell_type": "markdown",
   "id": "a374b1d8",
   "metadata": {},
   "source": [
    "# Load Data ke Dataframe"
   ]
  },
  {
   "cell_type": "code",
   "execution_count": 1,
   "id": "2fb4450e",
   "metadata": {},
   "outputs": [
    {
     "data": {
      "text/html": [
       "<div>\n",
       "<style scoped>\n",
       "    .dataframe tbody tr th:only-of-type {\n",
       "        vertical-align: middle;\n",
       "    }\n",
       "\n",
       "    .dataframe tbody tr th {\n",
       "        vertical-align: top;\n",
       "    }\n",
       "\n",
       "    .dataframe thead th {\n",
       "        text-align: right;\n",
       "    }\n",
       "</style>\n",
       "<table border=\"1\" class=\"dataframe\">\n",
       "  <thead>\n",
       "    <tr style=\"text-align: right;\">\n",
       "      <th></th>\n",
       "      <th>pokemon_name</th>\n",
       "      <th>day_bucket</th>\n",
       "      <th>vote_count</th>\n",
       "    </tr>\n",
       "  </thead>\n",
       "  <tbody>\n",
       "    <tr>\n",
       "      <th>0</th>\n",
       "      <td>koffing</td>\n",
       "      <td>2020-12-27</td>\n",
       "      <td>195</td>\n",
       "    </tr>\n",
       "    <tr>\n",
       "      <th>1</th>\n",
       "      <td>mewtwo</td>\n",
       "      <td>2020-12-27</td>\n",
       "      <td>20</td>\n",
       "    </tr>\n",
       "    <tr>\n",
       "      <th>2</th>\n",
       "      <td>snorlax</td>\n",
       "      <td>2020-12-27</td>\n",
       "      <td>15</td>\n",
       "    </tr>\n",
       "    <tr>\n",
       "      <th>3</th>\n",
       "      <td>koffing</td>\n",
       "      <td>2020-12-28</td>\n",
       "      <td>200</td>\n",
       "    </tr>\n",
       "    <tr>\n",
       "      <th>4</th>\n",
       "      <td>mewtwo</td>\n",
       "      <td>2020-12-28</td>\n",
       "      <td>27</td>\n",
       "    </tr>\n",
       "    <tr>\n",
       "      <th>...</th>\n",
       "      <td>...</td>\n",
       "      <td>...</td>\n",
       "      <td>...</td>\n",
       "    </tr>\n",
       "    <tr>\n",
       "      <th>355</th>\n",
       "      <td>mewtwo</td>\n",
       "      <td>2021-04-24</td>\n",
       "      <td>375</td>\n",
       "    </tr>\n",
       "    <tr>\n",
       "      <th>356</th>\n",
       "      <td>snorlax</td>\n",
       "      <td>2021-04-24</td>\n",
       "      <td>366</td>\n",
       "    </tr>\n",
       "    <tr>\n",
       "      <th>357</th>\n",
       "      <td>koffing</td>\n",
       "      <td>2021-04-25</td>\n",
       "      <td>82</td>\n",
       "    </tr>\n",
       "    <tr>\n",
       "      <th>358</th>\n",
       "      <td>mewtwo</td>\n",
       "      <td>2021-04-25</td>\n",
       "      <td>372</td>\n",
       "    </tr>\n",
       "    <tr>\n",
       "      <th>359</th>\n",
       "      <td>snorlax</td>\n",
       "      <td>2021-04-25</td>\n",
       "      <td>371</td>\n",
       "    </tr>\n",
       "  </tbody>\n",
       "</table>\n",
       "<p>360 rows × 3 columns</p>\n",
       "</div>"
      ],
      "text/plain": [
       "    pokemon_name  day_bucket  vote_count\n",
       "0        koffing  2020-12-27         195\n",
       "1         mewtwo  2020-12-27          20\n",
       "2        snorlax  2020-12-27          15\n",
       "3        koffing  2020-12-28         200\n",
       "4         mewtwo  2020-12-28          27\n",
       "..           ...         ...         ...\n",
       "355       mewtwo  2021-04-24         375\n",
       "356      snorlax  2021-04-24         366\n",
       "357      koffing  2021-04-25          82\n",
       "358       mewtwo  2021-04-25         372\n",
       "359      snorlax  2021-04-25         371\n",
       "\n",
       "[360 rows x 3 columns]"
      ]
     },
     "execution_count": 1,
     "metadata": {},
     "output_type": "execute_result"
    }
   ],
   "source": [
    "from sqlalchemy import create_engine\n",
    "import pandas as pd\n",
    "\n",
    "import os\n",
    "\n",
    "connection_string = os.getenv('CONNECTION_STRING')\n",
    "engine = create_engine(connection_string)\n",
    "sql = 'SELECT name as pokemon_name, day_bucket, count(id) as vote_count FROM saved_pokemon_vote GROUP BY day_bucket, name ORDER BY day_bucket, name'\n",
    "sql_query = pd.read_sql_query(sql, engine)\n",
    "df = pd.DataFrame(sql_query, columns=['pokemon_name', 'day_bucket', 'vote_count'])\n",
    "df"
   ]
  },
  {
   "cell_type": "markdown",
   "id": "623418e2",
   "metadata": {},
   "source": [
    "# Plot Dataframe Per Pokemon (aka: Data Masa Lalu)"
   ]
  },
  {
   "cell_type": "code",
   "execution_count": 2,
   "id": "608c89f8",
   "metadata": {},
   "outputs": [
    {
     "data": {
      "image/png": "[encoded data removed]",
      "text/plain": [
       "<Figure size 432x288 with 1 Axes>"
      ]
     },
     "metadata": {
      "needs_background": "light"
     },
     "output_type": "display_data"
    }
   ],
   "source": [
    "from typing import Mapping, List\n",
    "import matplotlib.pyplot as plt\n",
    "\n",
    "day_bucket_map: Mapping[str, List[str]] = {}\n",
    "vote_count_map: Mapping[str, List[int]] = {}\n",
    "\n",
    "for index, row in df.iterrows():\n",
    "    if row.pokemon_name not in day_bucket_map:\n",
    "        day_bucket_map[row.pokemon_name] = []\n",
    "        vote_count_map[row.pokemon_name] = []\n",
    "    day_bucket_map[row.pokemon_name].append(row.day_bucket)\n",
    "    vote_count_map[row.pokemon_name].append(row.vote_count)\n",
    "\n",
    "for pokemon_name in day_bucket_map:\n",
    "    day_buckets = day_bucket_map[pokemon_name]\n",
    "    vote_counts = vote_count_map[pokemon_name]\n",
    "    plt.plot(day_buckets, vote_counts, label=pokemon_name)\n",
    "plt.xticks(rotation=45)\n",
    "plt.legend()\n",
    "plt.show()"
   ]
  },
  {
   "cell_type": "markdown",
   "id": "0da597cf",
   "metadata": {},
   "source": [
    "# Transform Data untuk ML Model"
   ]
  },
  {
   "cell_type": "code",
   "execution_count": 3,
   "id": "66589b52",
   "metadata": {},
   "outputs": [
    {
     "name": "stdout",
     "output_type": "stream",
     "text": [
      "X [[20, 27, 31, 26, 28], [27, 31, 26, 28, 30], [31, 26, 28, 30, 42], [26, 28, 30, 42, 39], [28, 30, 42, 39, 49], [30, 42, 39, 49, 49], [42, 39, 49, 49, 53], [39, 49, 49, 53, 54], [49, 49, 53, 54, 55], [49, 53, 54, 55, 63], [53, 54, 55, 63, 64], [54, 55, 63, 64, 68], [55, 63, 64, 68, 73], [63, 64, 68, 73, 70], [64, 68, 73, 70, 77], [68, 73, 70, 77, 82], [73, 70, 77, 82, 85], [70, 77, 82, 85, 84], [77, 82, 85, 84, 85], [82, 85, 84, 85, 87], [85, 84, 85, 87, 97], [84, 85, 87, 97, 93], [85, 87, 97, 93, 98], [87, 97, 93, 98, 96], [97, 93, 98, 96, 102], [93, 98, 96, 102, 102], [98, 96, 102, 102, 109], [96, 102, 102, 109, 117], [102, 102, 109, 117, 117], [102, 109, 117, 117, 120], [109, 117, 117, 120, 118], [117, 117, 120, 118, 123], [117, 120, 118, 123, 129], [120, 118, 123, 129, 136], [118, 123, 129, 136, 135], [123, 129, 136, 135, 139], [129, 136, 135, 139, 135], [136, 135, 139, 135, 147], [135, 139, 135, 147, 142], [139, 135, 147, 142, 144], [135, 147, 142, 144, 149], [147, 142, 144, 149, 155], [142, 144, 149, 155, 156], [144, 149, 155, 156, 158], [149, 155, 156, 158, 169], [155, 156, 158, 169, 165], [156, 158, 169, 165, 169], [158, 169, 165, 169, 169], [169, 165, 169, 169, 174], [165, 169, 169, 174, 174], [169, 169, 174, 174, 182], [169, 174, 174, 182, 188], [174, 174, 182, 188, 188], [174, 182, 188, 188, 196], [182, 188, 188, 196, 191], [188, 188, 196, 191, 200], [188, 196, 191, 200, 200], [196, 191, 200, 200, 208], [191, 200, 200, 208, 206], [200, 200, 208, 206, 210], [200, 208, 206, 210, 214], [208, 206, 210, 214, 215], [206, 210, 214, 215, 219], [210, 214, 215, 219, 219], [214, 215, 219, 219, 226], [215, 219, 219, 226, 225], [219, 219, 226, 225, 225], [219, 226, 225, 225, 235], [226, 225, 225, 235, 231], [225, 225, 235, 231, 240], [225, 235, 231, 240, 241], [235, 231, 240, 241, 245], [231, 240, 241, 245, 253], [240, 241, 245, 253, 252], [241, 245, 253, 252, 259], [245, 253, 252, 259, 261], [253, 252, 259, 261, 259], [252, 259, 261, 259, 264], [259, 261, 259, 264, 270], [261, 259, 264, 270, 271], [259, 264, 270, 271, 271], [264, 270, 271, 271, 279], [270, 271, 271, 279, 277], [271, 271, 279, 277, 276], [271, 279, 277, 276, 287], [279, 277, 276, 287, 291], [277, 276, 287, 291, 286], [276, 287, 291, 286, 291], [287, 291, 286, 291, 301], [291, 286, 291, 301, 301], [286, 291, 301, 301, 302], [291, 301, 301, 302, 306], [301, 301, 302, 306, 309], [301, 302, 306, 309, 310], [302, 306, 309, 310, 310], [306, 309, 310, 310, 318], [309, 310, 310, 318, 318], [310, 310, 318, 318, 321], [310, 318, 318, 321, 331], [318, 318, 321, 331, 334], [318, 321, 331, 334, 333], [321, 331, 334, 333, 331], [331, 334, 333, 331, 343], [334, 333, 331, 343, 340], [333, 331, 343, 340, 344], [331, 343, 340, 344, 348], [343, 340, 344, 348, 355], [340, 344, 348, 355, 354], [344, 348, 355, 354, 359], [348, 355, 354, 359, 357], [355, 354, 359, 357, 358], [354, 359, 357, 358, 370], [359, 357, 358, 370, 373], [357, 358, 370, 373, 373], [358, 370, 373, 373, 375]]\n",
      "Y [30, 42, 39, 49, 49, 53, 54, 55, 63, 64, 68, 73, 70, 77, 82, 85, 84, 85, 87, 97, 93, 98, 96, 102, 102, 109, 117, 117, 120, 118, 123, 129, 136, 135, 139, 135, 147, 142, 144, 149, 155, 156, 158, 169, 165, 169, 169, 174, 174, 182, 188, 188, 196, 191, 200, 200, 208, 206, 210, 214, 215, 219, 219, 226, 225, 225, 235, 231, 240, 241, 245, 253, 252, 259, 261, 259, 264, 270, 271, 271, 279, 277, 276, 287, 291, 286, 291, 301, 301, 302, 306, 309, 310, 310, 318, 318, 321, 331, 334, 333, 331, 343, 340, 344, 348, 355, 354, 359, 357, 358, 370, 373, 373, 375, 372]\n"
     ]
    }
   ],
   "source": [
    "import datetime\n",
    "\n",
    "target_pokemon = 'mewtwo'\n",
    "\n",
    "day_buckets = day_bucket_map[target_pokemon]\n",
    "vote_counts = vote_count_map[target_pokemon]\n",
    "start_date = day_buckets[0]\n",
    "vote_map: Mapping[int, int] = {}\n",
    "max_delta_days = 0\n",
    "for index in range(len(day_buckets)):\n",
    "    day_bucket = day_buckets[index]\n",
    "    vote_count = vote_counts[index]\n",
    "    delta = day_bucket - start_date\n",
    "    delta_days = delta.days\n",
    "    max_delta_days = delta_days\n",
    "    vote_map[delta_days] = vote_count\n",
    "\n",
    "# prepare data for training\n",
    "x_mewtwo: List[List[int]] = []\n",
    "y_mewtwo: List[int] = []\n",
    "for index in range(max_delta_days):\n",
    "    data_is_complete = True\n",
    "    for i in range(6):\n",
    "        if index + i not in vote_map:\n",
    "            data_is_complete = False\n",
    "            break\n",
    "    if not data_is_complete:\n",
    "        continue\n",
    "    x = [\n",
    "        vote_map[index],\n",
    "        vote_map[index+1],\n",
    "        vote_map[index+2],\n",
    "        vote_map[index+3],\n",
    "        vote_map[index+4]\n",
    "    ]\n",
    "    y = vote_map[index+5]\n",
    "    x_mewtwo.append(x)\n",
    "    y_mewtwo.append(y)\n",
    "\n",
    "print('X', x_mewtwo)\n",
    "print('Y', y_mewtwo)"
   ]
  },
  {
   "cell_type": "markdown",
   "id": "08d05522",
   "metadata": {},
   "source": [
    "# Membuat ML Model"
   ]
  },
  {
   "cell_type": "code",
   "execution_count": 4,
   "id": "9c20d78d",
   "metadata": {},
   "outputs": [
    {
     "data": {
      "text/plain": [
       "0.9767027610929317"
      ]
     },
     "execution_count": 4,
     "metadata": {},
     "output_type": "execute_result"
    }
   ],
   "source": [
    "from sklearn.neural_network import MLPRegressor\n",
    "from sklearn.model_selection import train_test_split\n",
    "x_train, x_test, y_train, y_test = train_test_split(x_mewtwo, y_mewtwo, random_state=1)\n",
    "regr = MLPRegressor(random_state=1, max_iter=3000, activation='identity').fit(x_train, y_train)\n",
    "regr.predict(x_test[:2])\n",
    "regr.score(x_test, y_test)"
   ]
  },
  {
   "cell_type": "markdown",
   "id": "c8e365bd",
   "metadata": {},
   "source": [
    "# Memprediksi Masa Depan"
   ]
  },
  {
   "cell_type": "code",
   "execution_count": 6,
   "id": "419c8537",
   "metadata": {},
   "outputs": [
    {
     "data": {
      "image/png": "[encoded data removed]",
      "text/plain": [
       "<Figure size 432x288 with 1 Axes>"
      ]
     },
     "metadata": {
      "needs_background": "light"
     },
     "output_type": "display_data"
    }
   ],
   "source": [
    "predictions = []\n",
    "\n",
    "# prediksi data masa lalu\n",
    "for index in range(len(x_mewtwo)):\n",
    "    prediction = regr.predict([x_mewtwo[index]])\n",
    "    predictions.append(prediction[0])\n",
    "\n",
    "# prediksi data masa depan\n",
    "last_x = x_mewtwo[len(x_mewtwo)-1]\n",
    "last_y = y_mewtwo[len(y_mewtwo)-1]\n",
    "for i in range(5):\n",
    "    new_x = last_x[1:5]\n",
    "    new_x.append(last_y)\n",
    "    prediction = regr.predict([new_x])\n",
    "    predictions.append(prediction[0])\n",
    "    last_y = prediction[0]\n",
    "    last_x = new_x\n",
    "    \n",
    "\n",
    "# plot data asli\n",
    "plt.plot(range(len(y_mewtwo)), y_mewtwo, label=\"actual data\")\n",
    "    \n",
    "# plot data baru\n",
    "plt.plot(range(len(predictions)), predictions, label=\"prediction\")\n",
    "plt.legend()\n",
    "plt.show()"
   ]
  },
  {
   "cell_type": "code",
   "execution_count": null,
   "id": "0b51047d",
   "metadata": {},
   "outputs": [],
   "source": []
  }
 ],
 "metadata": {
  "kernelspec": {
   "display_name": "Python 3",
   "language": "python",
   "name": "python3"
  },
  "language_info": {
   "codemirror_mode": {
    "name": "ipython",
    "version": 3
   },
   "file_extension": ".py",
   "mimetype": "text/x-python",
   "name": "python",
   "nbconvert_exporter": "python",
   "pygments_lexer": "ipython3",
   "version": "3.8.6"
  }
 },
 "nbformat": 4,
 "nbformat_minor": 5
}
